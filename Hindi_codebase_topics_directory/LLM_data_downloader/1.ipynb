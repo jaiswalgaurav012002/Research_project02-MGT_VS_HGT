import os
import requests
import json
import logging
import time

# Configure logging
logging.basicConfig(level=logging.INFO, format='%(asctime)s - %(levelname)s - %(message)s')

# Load API key from environment variable
api_key = os.getenv("XAI_API_KEY")

def generate_article(topic, word_count=500):
    headers = {
        "Content-Type": "application/json",
        "Authorization": f"Bearer {api_key}"
    }
    
    data = {
        "messages": [
            {
                "role": "system",
                "content": "You are an article writer."
            },
            {
                "role": "user",
                "content": f"Write a unique article of approximately {word_count} words about {topic}. Focus on different aspects or details each time to avoid repetition."
            }
        ],
        "model": "grok-2-latest",
        "stream": False,
        "temperature": 0.7
    }

    try:
        response = requests.post("https://api.x.ai/v1/chat/completions", headers=headers, json=data)
        response.raise_for_status()
        return json.loads(response.text)['choices'][0]['message']['content']
    except requests.RequestException as e:
        logging.error(f"Request failed: {e}")
        return None

def generate_multiple_articles(topic, num_articles, word_count=500):
    """
    Generate multiple articles on a given topic.

    :param topic: Topic for articles
    :param num_articles: Number of articles to generate
    :param word_count: Approximate number of words per article
    :return: List of generated articles
    """
    articles = []
    for i in range(1, num_articles + 1):
        logging.info(f"Generating article {i} of {num_articles}")
        article = generate_article(topic, word_count)
        if article:
            articles.append({"id": i, "topic": topic, "content": article})
        else:
            logging.warning(f"Failed to generate article {i}. Moving to next.")
        
        # Rate limiting - adjust based on actual API limits
        if i % 50 == 0:  # Pause every 50 articles
            time.sleep(30)  # Less frequent pause for 1000 articles
    return articles

if __name__ == "__main__":
    topic = "Virat Kohli's childhood"
    num_articles = 1000
    
    articles = generate_multiple_articles(topic, num_articles)
    
    # Save articles to JSON for batch processing or storage
    with open('articles_1000.json', 'w', encoding='utf-8') as f:
        json.dump(articles, f, ensure_ascii=False, indent=4)
    
    logging.info(f"Generated {len(articles)} articles on {topic}")